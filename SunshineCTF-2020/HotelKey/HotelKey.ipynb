{
 "cells": [
  {
   "cell_type": "code",
   "execution_count": 1,
   "metadata": {},
   "outputs": [],
   "source": [
    "import angr"
   ]
  },
  {
   "cell_type": "code",
   "execution_count": 3,
   "metadata": {},
   "outputs": [
    {
     "name": "stderr",
     "output_type": "stream",
     "text": [
      "WARNING | 2020-11-07 11:16:19,536 | \u001b[36mcle.loader\u001b[0m | \u001b[36mThe main binary is a position-independent executable. It is being loaded with a base address of 0x400000.\u001b[0m\n"
     ]
    }
   ],
   "source": [
    "proj = angr.Project('hotel_key_puzzle', auto_load_libs=False)"
   ]
  },
  {
   "cell_type": "code",
   "execution_count": 5,
   "metadata": {},
   "outputs": [],
   "source": [
    "state = proj.factory.entry_state()\n",
    "simgr = proj.factory.simgr()"
   ]
  },
  {
   "cell_type": "code",
   "execution_count": 7,
   "metadata": {},
   "outputs": [
    {
     "name": "stderr",
     "output_type": "stream",
     "text": [
      "WARNING | 2020-11-07 11:17:43,506 | \u001b[32mangr.state_plugins.symbolic_memory\u001b[0m | \u001b[32mThe program is accessing memory or registers with an unspecified value. This could indicate unwanted behavior.\u001b[0m\n",
      "WARNING | 2020-11-07 11:17:43,507 | \u001b[32mangr.state_plugins.symbolic_memory\u001b[0m | \u001b[32mangr will cope with this by generating an unconstrained symbolic variable and continuing. You can resolve this by:\u001b[0m\n",
      "WARNING | 2020-11-07 11:17:43,507 | \u001b[32mangr.state_plugins.symbolic_memory\u001b[0m | \u001b[32m1) setting a value to the initial state\u001b[0m\n",
      "WARNING | 2020-11-07 11:17:43,508 | \u001b[32mangr.state_plugins.symbolic_memory\u001b[0m | \u001b[32m2) adding the state option ZERO_FILL_UNCONSTRAINED_{MEMORY,REGISTERS}, to make unknown regions hold null\u001b[0m\n",
      "WARNING | 2020-11-07 11:17:43,508 | \u001b[32mangr.state_plugins.symbolic_memory\u001b[0m | \u001b[32m3) adding the state option SYMBOL_FILL_UNCONSTRAINED_{MEMORY_REGISTERS}, to suppress these messages.\u001b[0m\n",
      "WARNING | 2020-11-07 11:17:43,509 | \u001b[32mangr.state_plugins.symbolic_memory\u001b[0m | \u001b[32mFilling memory at 0x7fffffffffefff8 with 8 unconstrained bytes referenced from 0x500020 (strlen+0x0 in extern-address space (0x20))\u001b[0m\n",
      "WARNING | 2020-11-07 11:17:43,510 | \u001b[32mangr.state_plugins.symbolic_memory\u001b[0m | \u001b[32mFilling memory at 0x7fffffffffeff60 with 8 unconstrained bytes referenced from 0x500020 (strlen+0x0 in extern-address space (0x20))\u001b[0m\n"
     ]
    },
    {
     "data": {
      "text/plain": [
       "<SimulationManager with 1 active, 29 deadended, 1 found>"
      ]
     },
     "execution_count": 7,
     "metadata": {},
     "output_type": "execute_result"
    }
   ],
   "source": [
    "simgr.explore(find=lambda s: b\"I see you found the key, hopefully your bags are in your room by this point.\" in s.posix.dumps(1))"
   ]
  },
  {
   "cell_type": "code",
   "execution_count": 8,
   "metadata": {},
   "outputs": [],
   "source": [
    "s = simgr.found[0]"
   ]
  },
  {
   "cell_type": "code",
   "execution_count": 9,
   "metadata": {},
   "outputs": [
    {
     "name": "stdout",
     "output_type": "stream",
     "text": [
      "b'Hotel Orlando Door Puzzle v1\\n----------------------------\\nThis puzzle, provided by Hotel Orlando, is in place to give the bellhops enough time to get your luggage to you.\\nWe have really slow bellhops and so we had to put a serious _time sink_ in front of you.\\nHave fun with this puzzle while we get your luggage to you!\\n\\n\\t-Hotel Orlando Bellhop and Stalling Service\\n\\nYour guess, if you would be so kind: \\nI see you found the key, hopefully your bags are in your room by this point.\\n'\n"
     ]
    }
   ],
   "source": [
    "print(s.posix.dumps(1))"
   ]
  },
  {
   "cell_type": "code",
   "execution_count": 10,
   "metadata": {},
   "outputs": [
    {
     "name": "stdout",
     "output_type": "stream",
     "text": [
      "b'sun{b3llh0p5-runn1n6-qu1ckly}\\x00\\xd9\\xd9\\xd9\\xd9\\xd9\\xd9\\xd9\\xd9\\xd9\\xd9\\xd9\\xd9\\xd9\\xd9\\xd9\\xd9\\xd9\\xd9\\xd9\\xd9\\xd9\\xd9\\xd9\\xd9\\xd9\\xd9\\xd9\\xd9\\xd9\\xd9'\n"
     ]
    }
   ],
   "source": [
    "print(s.posix.dumps(0))"
   ]
  },
  {
   "cell_type": "code",
   "execution_count": null,
   "metadata": {},
   "outputs": [],
   "source": []
  }
 ],
 "metadata": {
  "kernelspec": {
   "display_name": "Python 3",
   "language": "python",
   "name": "python3"
  },
  "language_info": {
   "codemirror_mode": {
    "name": "ipython",
    "version": 3
   },
   "file_extension": ".py",
   "mimetype": "text/x-python",
   "name": "python",
   "nbconvert_exporter": "python",
   "pygments_lexer": "ipython3",
   "version": "3.8.5"
  }
 },
 "nbformat": 4,
 "nbformat_minor": 4
}
